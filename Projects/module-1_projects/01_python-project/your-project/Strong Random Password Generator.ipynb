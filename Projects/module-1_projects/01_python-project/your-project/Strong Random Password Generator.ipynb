{
 "cells": [
  {
   "cell_type": "markdown",
   "metadata": {},
   "source": [
    "Importing random function in order to pick the random selection from special character"
   ]
  },
  {
   "cell_type": "code",
   "execution_count": 2,
   "metadata": {},
   "outputs": [],
   "source": [
    "import random "
   ]
  },
  {
   "cell_type": "markdown",
   "metadata": {},
   "source": [
    "Defining special character in order to make the password strong"
   ]
  },
  {
   "cell_type": "code",
   "execution_count": 3,
   "metadata": {},
   "outputs": [],
   "source": [
    "chars = '0123456789!/\\!@#$%^&*?'"
   ]
  },
  {
   "cell_type": "markdown",
   "metadata": {},
   "source": [
    "Getting the input from customer for the name or colour. \n",
    "Customer will be able to select whether they want to add their name or their favourite colour in the password.\n",
    "If the customer did not defined their name, the program will be ask for customer favourite colour.\n",
    "If customer decided not to give their name or favourite colour the programme will acknowledge to customer."
   ]
  },
  {
   "cell_type": "code",
   "execution_count": 4,
   "metadata": {},
   "outputs": [
    {
     "name": "stdout",
     "output_type": "stream",
     "text": [
      "Would you like to have your password from your First/Last Name(yes/no)?yes\n",
      "Let me know what name you would prefer to use? najla\n"
     ]
    }
   ],
   "source": [
    "ans = input('Would you like to have your password from your First/Last Name(yes/no)?')\n",
    "if ans.lower() == \"yes\":\n",
    "    cust_ans = input('Let me know what name you would prefer to use? ')\n",
    "elif ans.lower() ==\"no\":\n",
    "    cust_ans = input('What is your favourite colour? ') \n",
    "else:\n",
    "    print('Okay Noted !!')\n",
    "    cust_ans=\"\""
   ]
  },
  {
   "cell_type": "markdown",
   "metadata": {},
   "source": [
    "In order to make the password strong we will be adding 5 special character and the end of customer answers (their name or their favourite colour)."
   ]
  },
  {
   "cell_type": "code",
   "execution_count": 5,
   "metadata": {},
   "outputs": [],
   "source": [
    "len_cust_ans = len(cust_ans)+5"
   ]
  },
  {
   "cell_type": "markdown",
   "metadata": {},
   "source": [
    "Program will be ask customer to define the length of their password.\n",
    "The password cannot be less than their customer answer (their name/favourite colour)"
   ]
  },
  {
   "cell_type": "code",
   "execution_count": 6,
   "metadata": {},
   "outputs": [
    {
     "name": "stdout",
     "output_type": "stream",
     "text": [
      "What is a password length you are looking for? remember your minimum choice should be 10 character. 10\n"
     ]
    }
   ],
   "source": [
    "length = float(input(\"What is a password length you are looking for? remember your minimum choice should be {} character. \".format(len_cust_ans)))\n",
    "length = int(length)\n",
    "len_cust_ans = int(len_cust_ans)"
   ]
  },
  {
   "cell_type": "markdown",
   "metadata": {},
   "source": [
    "The programme will be check an ensure the length of requested password is more than customers answer (their name/favourite colour).\n",
    "The programme will be continue to ask customer to key in the correct password length"
   ]
  },
  {
   "cell_type": "code",
   "execution_count": 9,
   "metadata": {},
   "outputs": [],
   "source": [
    "while length < len_cust_ans:\n",
    "    print(\"Remember your password should be longer than your selected Name/Colour\")\n",
    "    length = input(\"Try to key in length of your password again!\")\n",
    "    length = int(length)"
   ]
  },
  {
   "cell_type": "markdown",
   "metadata": {},
   "source": [
    "The program will be randomly select special character (which was define at earlier stage).\n",
    "The program will combine customers answer (their name/favourite colour) with the special character. \n",
    "The program will print the preferable secure password for customer at the end."
   ]
  },
  {
   "cell_type": "code",
   "execution_count": 10,
   "metadata": {},
   "outputs": [
    {
     "name": "stdout",
     "output_type": "stream",
     "text": [
      "Your Preferable Secure Password is: \n",
      "najla13@?0\n"
     ]
    }
   ],
   "source": [
    "password = ''\n",
    "for c in range (length - len(cust_ans)):\n",
    "    password += random.choice(chars)  \n",
    "print(\"Your Preferable Secure Password is: \")\n",
    "print(cust_ans + password)"
   ]
  },
  {
   "cell_type": "code",
   "execution_count": null,
   "metadata": {},
   "outputs": [],
   "source": []
  }
 ],
 "metadata": {
  "kernelspec": {
   "display_name": "Python 3",
   "language": "python",
   "name": "python3"
  },
  "language_info": {
   "codemirror_mode": {
    "name": "ipython",
    "version": 3
   },
   "file_extension": ".py",
   "mimetype": "text/x-python",
   "name": "python",
   "nbconvert_exporter": "python",
   "pygments_lexer": "ipython3",
   "version": "3.8.3"
  }
 },
 "nbformat": 4,
 "nbformat_minor": 4
}
