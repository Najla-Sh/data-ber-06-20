{
 "cells": [
  {
   "cell_type": "code",
   "execution_count": 27,
   "metadata": {},
   "outputs": [
    {
     "name": "stdout",
     "output_type": "stream",
     "text": [
      "Would you like to have your password from your First/Last Name(yes/no)?no\n",
      "What is your favourite color? red\n",
      "What is a password lenght you are looking for? remember your minimum choice should be 8 charactor. 7\n",
      "Remember your password should be longer than your selected Name/Color\n",
      "Try to key in lenght of your password again!9\n",
      "Your Preferable Secure Password is: \n",
      "red06@%4^\n"
     ]
    }
   ],
   "source": [
    "# importing random function in order to pick the random selection from special charactor\n",
    "import random \n",
    "\n",
    "# defining special charactore in order to make the password strong\n",
    "chars = '0123456789!/\\!@#$%^&*?'\n",
    "\n",
    "#getting the input from customer for the name or color \n",
    "#customer will be able to select whther they want to add their name or thier favourite color in the password\n",
    "#if the customer did not defined their name, the program will be ask for customer favourite color\n",
    "#if customer decided not to give their name or favourite color the programe will acknowledge to customer\n",
    "ans = input('Would you like to have your password from your First/Last Name(yes/no)?')\n",
    "if ans.lower() == \"yes\":\n",
    "    cust_ans = input('Let me know what name you would prefer to use? ')\n",
    "elif ans.lower() ==\"no\":\n",
    "    cust_ans = input('What is your favourite color? ') \n",
    "    \n",
    "else:\n",
    "    print('Okay Noted !!')\n",
    "    cust_ans=\"\"\n",
    "\n",
    " #in order to make the password strong we will be adding 5 special charactore and the end of customer answers(their name or their favourite color)   \n",
    "len_cust_ans = len(cust_ans)+5\n",
    "\n",
    "#program will be ask customer to define the lenght of their password\n",
    "#the password can not be less than their customer answer(their name/favaourite color)\n",
    "lenght = float(input(\"What is a password lenght you are looking for? remember your minimum choice should be {} charactor. \".format(len_cust_ans)))\n",
    "lenght = int(lenght)\n",
    "len_cust_ans = int(len_cust_ans)\n",
    "\n",
    "#the programe will be check an ensure the lenght of requested password is more than customers answer(their name/favourite color)\n",
    "#the programe will be continue to ask customer to key in the correct password lenght\n",
    "while lenght < len_cust_ans:\n",
    "    print(\"Remember your password should be longer than your selected Name/Color\")\n",
    "    lenght = input(\"Try to key in lenght of your password again!\")\n",
    "    lenght = int(lenght)\n",
    "\n",
    "#the program will be randomly select special charactor(which was define at earlier stage)\n",
    "#the program will combine customers answer(their name/favourite color)with the special charactor \n",
    "#the program will print the preferable secure password for customer at the end\n",
    "password = ''\n",
    "for c in range (lenght - len(cust_ans)):\n",
    "    password += random.choice(chars)  \n",
    "print(\"Your Preferable Secure Password is: \")\n",
    "print(cust_ans + password)"
   ]
  },
  {
   "cell_type": "code",
   "execution_count": null,
   "metadata": {},
   "outputs": [],
   "source": []
  }
 ],
 "metadata": {
  "kernelspec": {
   "display_name": "Python 3",
   "language": "python",
   "name": "python3"
  },
  "language_info": {
   "codemirror_mode": {
    "name": "ipython",
    "version": 3
   },
   "file_extension": ".py",
   "mimetype": "text/x-python",
   "name": "python",
   "nbconvert_exporter": "python",
   "pygments_lexer": "ipython3",
   "version": "3.8.3"
  }
 },
 "nbformat": 4,
 "nbformat_minor": 4
}
